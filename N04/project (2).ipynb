{
  "nbformat": 4,
  "nbformat_minor": 0,
  "metadata": {
    "colab": {
      "provenance": []
    },
    "kernelspec": {
      "name": "python3",
      "display_name": "Python 3"
    },
    "language_info": {
      "name": "python"
    }
  },
  "cells": [
    {
      "cell_type": "code",
      "execution_count": null,
      "metadata": {
        "id": "xP8EBHAw-OCd",
        "colab": {
          "base_uri": "https://localhost:8080/",
          "height": 553
        },
        "outputId": "e6252a2f-750c-43e1-8ca9-ef3674b0f6f7"
      },
      "outputs": [
        {
          "output_type": "execute_result",
          "data": {
            "text/plain": [
              "  InvoiceNo StockCode                          Description  Quantity  \\\n",
              "0    536365    85123A   WHITE HANGING HEART T-LIGHT HOLDER         6   \n",
              "1    536365     71053                  WHITE METAL LANTERN         6   \n",
              "2    536365    84406B       CREAM CUPID HEARTS COAT HANGER         8   \n",
              "3    536365    84029G  KNITTED UNION FLAG HOT WATER BOTTLE         6   \n",
              "4    536365    84029E       RED WOOLLY HOTTIE WHITE HEART.         6   \n",
              "5    536365     22752         SET 7 BABUSHKA NESTING BOXES         2   \n",
              "6    536365     21730    GLASS STAR FROSTED T-LIGHT HOLDER         6   \n",
              "7    536366     22633               HAND WARMER UNION JACK         6   \n",
              "8    536366     22632            HAND WARMER RED POLKA DOT         6   \n",
              "9    536367     84879        ASSORTED COLOUR BIRD ORNAMENT        32   \n",
              "\n",
              "           InvoiceDate  UnitPrice  CustomerID         Country  \n",
              "0  2010-12-01 08:26:00       2.55     17850.0  United Kingdom  \n",
              "1  2010-12-01 08:26:00       3.39     17850.0  United Kingdom  \n",
              "2  2010-12-01 08:26:00       2.75     17850.0  United Kingdom  \n",
              "3  2010-12-01 08:26:00       3.39     17850.0  United Kingdom  \n",
              "4  2010-12-01 08:26:00       3.39     17850.0  United Kingdom  \n",
              "5  2010-12-01 08:26:00       7.65     17850.0  United Kingdom  \n",
              "6  2010-12-01 08:26:00       4.25     17850.0  United Kingdom  \n",
              "7  2010-12-01 08:28:00       1.85     17850.0  United Kingdom  \n",
              "8  2010-12-01 08:28:00       1.85     17850.0  United Kingdom  \n",
              "9  2010-12-01 08:34:00       1.69     13047.0  United Kingdom  "
            ],
            "text/html": [
              "\n",
              "  <div id=\"df-8b676f3c-3a26-47db-8019-95dc38adc48b\" class=\"colab-df-container\">\n",
              "    <div>\n",
              "<style scoped>\n",
              "    .dataframe tbody tr th:only-of-type {\n",
              "        vertical-align: middle;\n",
              "    }\n",
              "\n",
              "    .dataframe tbody tr th {\n",
              "        vertical-align: top;\n",
              "    }\n",
              "\n",
              "    .dataframe thead th {\n",
              "        text-align: right;\n",
              "    }\n",
              "</style>\n",
              "<table border=\"1\" class=\"dataframe\">\n",
              "  <thead>\n",
              "    <tr style=\"text-align: right;\">\n",
              "      <th></th>\n",
              "      <th>InvoiceNo</th>\n",
              "      <th>StockCode</th>\n",
              "      <th>Description</th>\n",
              "      <th>Quantity</th>\n",
              "      <th>InvoiceDate</th>\n",
              "      <th>UnitPrice</th>\n",
              "      <th>CustomerID</th>\n",
              "      <th>Country</th>\n",
              "    </tr>\n",
              "  </thead>\n",
              "  <tbody>\n",
              "    <tr>\n",
              "      <th>0</th>\n",
              "      <td>536365</td>\n",
              "      <td>85123A</td>\n",
              "      <td>WHITE HANGING HEART T-LIGHT HOLDER</td>\n",
              "      <td>6</td>\n",
              "      <td>2010-12-01 08:26:00</td>\n",
              "      <td>2.55</td>\n",
              "      <td>17850.0</td>\n",
              "      <td>United Kingdom</td>\n",
              "    </tr>\n",
              "    <tr>\n",
              "      <th>1</th>\n",
              "      <td>536365</td>\n",
              "      <td>71053</td>\n",
              "      <td>WHITE METAL LANTERN</td>\n",
              "      <td>6</td>\n",
              "      <td>2010-12-01 08:26:00</td>\n",
              "      <td>3.39</td>\n",
              "      <td>17850.0</td>\n",
              "      <td>United Kingdom</td>\n",
              "    </tr>\n",
              "    <tr>\n",
              "      <th>2</th>\n",
              "      <td>536365</td>\n",
              "      <td>84406B</td>\n",
              "      <td>CREAM CUPID HEARTS COAT HANGER</td>\n",
              "      <td>8</td>\n",
              "      <td>2010-12-01 08:26:00</td>\n",
              "      <td>2.75</td>\n",
              "      <td>17850.0</td>\n",
              "      <td>United Kingdom</td>\n",
              "    </tr>\n",
              "    <tr>\n",
              "      <th>3</th>\n",
              "      <td>536365</td>\n",
              "      <td>84029G</td>\n",
              "      <td>KNITTED UNION FLAG HOT WATER BOTTLE</td>\n",
              "      <td>6</td>\n",
              "      <td>2010-12-01 08:26:00</td>\n",
              "      <td>3.39</td>\n",
              "      <td>17850.0</td>\n",
              "      <td>United Kingdom</td>\n",
              "    </tr>\n",
              "    <tr>\n",
              "      <th>4</th>\n",
              "      <td>536365</td>\n",
              "      <td>84029E</td>\n",
              "      <td>RED WOOLLY HOTTIE WHITE HEART.</td>\n",
              "      <td>6</td>\n",
              "      <td>2010-12-01 08:26:00</td>\n",
              "      <td>3.39</td>\n",
              "      <td>17850.0</td>\n",
              "      <td>United Kingdom</td>\n",
              "    </tr>\n",
              "    <tr>\n",
              "      <th>5</th>\n",
              "      <td>536365</td>\n",
              "      <td>22752</td>\n",
              "      <td>SET 7 BABUSHKA NESTING BOXES</td>\n",
              "      <td>2</td>\n",
              "      <td>2010-12-01 08:26:00</td>\n",
              "      <td>7.65</td>\n",
              "      <td>17850.0</td>\n",
              "      <td>United Kingdom</td>\n",
              "    </tr>\n",
              "    <tr>\n",
              "      <th>6</th>\n",
              "      <td>536365</td>\n",
              "      <td>21730</td>\n",
              "      <td>GLASS STAR FROSTED T-LIGHT HOLDER</td>\n",
              "      <td>6</td>\n",
              "      <td>2010-12-01 08:26:00</td>\n",
              "      <td>4.25</td>\n",
              "      <td>17850.0</td>\n",
              "      <td>United Kingdom</td>\n",
              "    </tr>\n",
              "    <tr>\n",
              "      <th>7</th>\n",
              "      <td>536366</td>\n",
              "      <td>22633</td>\n",
              "      <td>HAND WARMER UNION JACK</td>\n",
              "      <td>6</td>\n",
              "      <td>2010-12-01 08:28:00</td>\n",
              "      <td>1.85</td>\n",
              "      <td>17850.0</td>\n",
              "      <td>United Kingdom</td>\n",
              "    </tr>\n",
              "    <tr>\n",
              "      <th>8</th>\n",
              "      <td>536366</td>\n",
              "      <td>22632</td>\n",
              "      <td>HAND WARMER RED POLKA DOT</td>\n",
              "      <td>6</td>\n",
              "      <td>2010-12-01 08:28:00</td>\n",
              "      <td>1.85</td>\n",
              "      <td>17850.0</td>\n",
              "      <td>United Kingdom</td>\n",
              "    </tr>\n",
              "    <tr>\n",
              "      <th>9</th>\n",
              "      <td>536367</td>\n",
              "      <td>84879</td>\n",
              "      <td>ASSORTED COLOUR BIRD ORNAMENT</td>\n",
              "      <td>32</td>\n",
              "      <td>2010-12-01 08:34:00</td>\n",
              "      <td>1.69</td>\n",
              "      <td>13047.0</td>\n",
              "      <td>United Kingdom</td>\n",
              "    </tr>\n",
              "  </tbody>\n",
              "</table>\n",
              "</div>\n",
              "    <div class=\"colab-df-buttons\">\n",
              "\n",
              "  <div class=\"colab-df-container\">\n",
              "    <button class=\"colab-df-convert\" onclick=\"convertToInteractive('df-8b676f3c-3a26-47db-8019-95dc38adc48b')\"\n",
              "            title=\"Convert this dataframe to an interactive table.\"\n",
              "            style=\"display:none;\">\n",
              "\n",
              "  <svg xmlns=\"http://www.w3.org/2000/svg\" height=\"24px\" viewBox=\"0 -960 960 960\">\n",
              "    <path d=\"M120-120v-720h720v720H120Zm60-500h600v-160H180v160Zm220 220h160v-160H400v160Zm0 220h160v-160H400v160ZM180-400h160v-160H180v160Zm440 0h160v-160H620v160ZM180-180h160v-160H180v160Zm440 0h160v-160H620v160Z\"/>\n",
              "  </svg>\n",
              "    </button>\n",
              "\n",
              "  <style>\n",
              "    .colab-df-container {\n",
              "      display:flex;\n",
              "      gap: 12px;\n",
              "    }\n",
              "\n",
              "    .colab-df-convert {\n",
              "      background-color: #E8F0FE;\n",
              "      border: none;\n",
              "      border-radius: 50%;\n",
              "      cursor: pointer;\n",
              "      display: none;\n",
              "      fill: #1967D2;\n",
              "      height: 32px;\n",
              "      padding: 0 0 0 0;\n",
              "      width: 32px;\n",
              "    }\n",
              "\n",
              "    .colab-df-convert:hover {\n",
              "      background-color: #E2EBFA;\n",
              "      box-shadow: 0px 1px 2px rgba(60, 64, 67, 0.3), 0px 1px 3px 1px rgba(60, 64, 67, 0.15);\n",
              "      fill: #174EA6;\n",
              "    }\n",
              "\n",
              "    .colab-df-buttons div {\n",
              "      margin-bottom: 4px;\n",
              "    }\n",
              "\n",
              "    [theme=dark] .colab-df-convert {\n",
              "      background-color: #3B4455;\n",
              "      fill: #D2E3FC;\n",
              "    }\n",
              "\n",
              "    [theme=dark] .colab-df-convert:hover {\n",
              "      background-color: #434B5C;\n",
              "      box-shadow: 0px 1px 3px 1px rgba(0, 0, 0, 0.15);\n",
              "      filter: drop-shadow(0px 1px 2px rgba(0, 0, 0, 0.3));\n",
              "      fill: #FFFFFF;\n",
              "    }\n",
              "  </style>\n",
              "\n",
              "    <script>\n",
              "      const buttonEl =\n",
              "        document.querySelector('#df-8b676f3c-3a26-47db-8019-95dc38adc48b button.colab-df-convert');\n",
              "      buttonEl.style.display =\n",
              "        google.colab.kernel.accessAllowed ? 'block' : 'none';\n",
              "\n",
              "      async function convertToInteractive(key) {\n",
              "        const element = document.querySelector('#df-8b676f3c-3a26-47db-8019-95dc38adc48b');\n",
              "        const dataTable =\n",
              "          await google.colab.kernel.invokeFunction('convertToInteractive',\n",
              "                                                    [key], {});\n",
              "        if (!dataTable) return;\n",
              "\n",
              "        const docLinkHtml = 'Like what you see? Visit the ' +\n",
              "          '<a target=\"_blank\" href=https://colab.research.google.com/notebooks/data_table.ipynb>data table notebook</a>'\n",
              "          + ' to learn more about interactive tables.';\n",
              "        element.innerHTML = '';\n",
              "        dataTable['output_type'] = 'display_data';\n",
              "        await google.colab.output.renderOutput(dataTable, element);\n",
              "        const docLink = document.createElement('div');\n",
              "        docLink.innerHTML = docLinkHtml;\n",
              "        element.appendChild(docLink);\n",
              "      }\n",
              "    </script>\n",
              "  </div>\n",
              "\n",
              "\n",
              "    <div id=\"df-82aad2ec-e1d6-4b02-95e8-9ccb5ceecebc\">\n",
              "      <button class=\"colab-df-quickchart\" onclick=\"quickchart('df-82aad2ec-e1d6-4b02-95e8-9ccb5ceecebc')\"\n",
              "                title=\"Suggest charts\"\n",
              "                style=\"display:none;\">\n",
              "\n",
              "<svg xmlns=\"http://www.w3.org/2000/svg\" height=\"24px\"viewBox=\"0 0 24 24\"\n",
              "     width=\"24px\">\n",
              "    <g>\n",
              "        <path d=\"M19 3H5c-1.1 0-2 .9-2 2v14c0 1.1.9 2 2 2h14c1.1 0 2-.9 2-2V5c0-1.1-.9-2-2-2zM9 17H7v-7h2v7zm4 0h-2V7h2v10zm4 0h-2v-4h2v4z\"/>\n",
              "    </g>\n",
              "</svg>\n",
              "      </button>\n",
              "\n",
              "<style>\n",
              "  .colab-df-quickchart {\n",
              "      --bg-color: #E8F0FE;\n",
              "      --fill-color: #1967D2;\n",
              "      --hover-bg-color: #E2EBFA;\n",
              "      --hover-fill-color: #174EA6;\n",
              "      --disabled-fill-color: #AAA;\n",
              "      --disabled-bg-color: #DDD;\n",
              "  }\n",
              "\n",
              "  [theme=dark] .colab-df-quickchart {\n",
              "      --bg-color: #3B4455;\n",
              "      --fill-color: #D2E3FC;\n",
              "      --hover-bg-color: #434B5C;\n",
              "      --hover-fill-color: #FFFFFF;\n",
              "      --disabled-bg-color: #3B4455;\n",
              "      --disabled-fill-color: #666;\n",
              "  }\n",
              "\n",
              "  .colab-df-quickchart {\n",
              "    background-color: var(--bg-color);\n",
              "    border: none;\n",
              "    border-radius: 50%;\n",
              "    cursor: pointer;\n",
              "    display: none;\n",
              "    fill: var(--fill-color);\n",
              "    height: 32px;\n",
              "    padding: 0;\n",
              "    width: 32px;\n",
              "  }\n",
              "\n",
              "  .colab-df-quickchart:hover {\n",
              "    background-color: var(--hover-bg-color);\n",
              "    box-shadow: 0 1px 2px rgba(60, 64, 67, 0.3), 0 1px 3px 1px rgba(60, 64, 67, 0.15);\n",
              "    fill: var(--button-hover-fill-color);\n",
              "  }\n",
              "\n",
              "  .colab-df-quickchart-complete:disabled,\n",
              "  .colab-df-quickchart-complete:disabled:hover {\n",
              "    background-color: var(--disabled-bg-color);\n",
              "    fill: var(--disabled-fill-color);\n",
              "    box-shadow: none;\n",
              "  }\n",
              "\n",
              "  .colab-df-spinner {\n",
              "    border: 2px solid var(--fill-color);\n",
              "    border-color: transparent;\n",
              "    border-bottom-color: var(--fill-color);\n",
              "    animation:\n",
              "      spin 1s steps(1) infinite;\n",
              "  }\n",
              "\n",
              "  @keyframes spin {\n",
              "    0% {\n",
              "      border-color: transparent;\n",
              "      border-bottom-color: var(--fill-color);\n",
              "      border-left-color: var(--fill-color);\n",
              "    }\n",
              "    20% {\n",
              "      border-color: transparent;\n",
              "      border-left-color: var(--fill-color);\n",
              "      border-top-color: var(--fill-color);\n",
              "    }\n",
              "    30% {\n",
              "      border-color: transparent;\n",
              "      border-left-color: var(--fill-color);\n",
              "      border-top-color: var(--fill-color);\n",
              "      border-right-color: var(--fill-color);\n",
              "    }\n",
              "    40% {\n",
              "      border-color: transparent;\n",
              "      border-right-color: var(--fill-color);\n",
              "      border-top-color: var(--fill-color);\n",
              "    }\n",
              "    60% {\n",
              "      border-color: transparent;\n",
              "      border-right-color: var(--fill-color);\n",
              "    }\n",
              "    80% {\n",
              "      border-color: transparent;\n",
              "      border-right-color: var(--fill-color);\n",
              "      border-bottom-color: var(--fill-color);\n",
              "    }\n",
              "    90% {\n",
              "      border-color: transparent;\n",
              "      border-bottom-color: var(--fill-color);\n",
              "    }\n",
              "  }\n",
              "</style>\n",
              "\n",
              "      <script>\n",
              "        async function quickchart(key) {\n",
              "          const quickchartButtonEl =\n",
              "            document.querySelector('#' + key + ' button');\n",
              "          quickchartButtonEl.disabled = true;  // To prevent multiple clicks.\n",
              "          quickchartButtonEl.classList.add('colab-df-spinner');\n",
              "          try {\n",
              "            const charts = await google.colab.kernel.invokeFunction(\n",
              "                'suggestCharts', [key], {});\n",
              "          } catch (error) {\n",
              "            console.error('Error during call to suggestCharts:', error);\n",
              "          }\n",
              "          quickchartButtonEl.classList.remove('colab-df-spinner');\n",
              "          quickchartButtonEl.classList.add('colab-df-quickchart-complete');\n",
              "        }\n",
              "        (() => {\n",
              "          let quickchartButtonEl =\n",
              "            document.querySelector('#df-82aad2ec-e1d6-4b02-95e8-9ccb5ceecebc button');\n",
              "          quickchartButtonEl.style.display =\n",
              "            google.colab.kernel.accessAllowed ? 'block' : 'none';\n",
              "        })();\n",
              "      </script>\n",
              "    </div>\n",
              "\n",
              "    </div>\n",
              "  </div>\n"
            ],
            "application/vnd.google.colaboratory.intrinsic+json": {
              "type": "dataframe",
              "variable_name": "df"
            }
          },
          "metadata": {},
          "execution_count": 1
        }
      ],
      "source": [
        "# Chuyển đổi file xlxs sang csv.\n",
        "import pandas as pd\n",
        "\n",
        "read_file = pd.read_excel (\"/content/Online Retail.xlsx\")\n",
        "read_file.to_csv (\"/content/OnlineRetail.csv\",\n",
        "                   index = None,\n",
        "                   header=True)\n",
        "df = pd.DataFrame(pd.read_csv(\"/content/OnlineRetail.csv\"))\n",
        "df.head(10)"
      ]
    },
    {
      "cell_type": "code",
      "source": [
        "# Cài đặt thư viên Pyspark\n",
        "!pip install pyspark\n"
      ],
      "metadata": {
        "colab": {
          "base_uri": "https://localhost:8080/"
        },
        "id": "J73yzHLuWtSR",
        "outputId": "b9ff147f-344c-4fab-a4b2-792b5bfbd507"
      },
      "execution_count": null,
      "outputs": [
        {
          "output_type": "stream",
          "name": "stdout",
          "text": [
            "Requirement already satisfied: pyspark in /usr/local/lib/python3.11/dist-packages (3.5.5)\n",
            "Requirement already satisfied: py4j==0.10.9.7 in /usr/local/lib/python3.11/dist-packages (from pyspark) (0.10.9.7)\n"
          ]
        }
      ]
    },
    {
      "cell_type": "markdown",
      "source": [
        "PHÂN TÍCH DỮ LIỆU CƠ BẢN\n"
      ],
      "metadata": {
        "id": "vTPF_wY2m05_"
      }
    },
    {
      "cell_type": "code",
      "source": [
        "from pyspark.sql import SparkSession\n",
        "from pyspark.sql.functions import *\n",
        "from pyspark.sql.types import *\n",
        "# Init SparkSession\n",
        "spark = SparkSession.builder.appName(\"Pyspark Tutorial\").config(\"spark.memory.offHeap.enabled\",\"true\").config(\"spark.memory.offHeap.size\",\"10g\").getOrCreate()\n",
        "# Read data frame\n",
        "df = spark.read.csv('/content/OnlineRetail.csv',header=True,escape=\"\\\"\")\n",
        "df.show(5)"
      ],
      "metadata": {
        "colab": {
          "base_uri": "https://localhost:8080/"
        },
        "id": "Gc-DhL0QXDY4",
        "outputId": "4548c323-5169-4411-c39d-c5fe00d63fbd"
      },
      "execution_count": null,
      "outputs": [
        {
          "output_type": "stream",
          "name": "stdout",
          "text": [
            "+---------+---------+--------------------+--------+-------------------+---------+----------+--------------+\n",
            "|InvoiceNo|StockCode|         Description|Quantity|        InvoiceDate|UnitPrice|CustomerID|       Country|\n",
            "+---------+---------+--------------------+--------+-------------------+---------+----------+--------------+\n",
            "|   536365|   85123A|WHITE HANGING HEA...|       6|2010-12-01 08:26:00|     2.55|   17850.0|United Kingdom|\n",
            "|   536365|    71053| WHITE METAL LANTERN|       6|2010-12-01 08:26:00|     3.39|   17850.0|United Kingdom|\n",
            "|   536365|   84406B|CREAM CUPID HEART...|       8|2010-12-01 08:26:00|     2.75|   17850.0|United Kingdom|\n",
            "|   536365|   84029G|KNITTED UNION FLA...|       6|2010-12-01 08:26:00|     3.39|   17850.0|United Kingdom|\n",
            "|   536365|   84029E|RED WOOLLY HOTTIE...|       6|2010-12-01 08:26:00|     3.39|   17850.0|United Kingdom|\n",
            "+---------+---------+--------------------+--------+-------------------+---------+----------+--------------+\n",
            "only showing top 5 rows\n",
            "\n"
          ]
        }
      ]
    },
    {
      "cell_type": "code",
      "source": [
        "df.count()"
      ],
      "metadata": {
        "colab": {
          "base_uri": "https://localhost:8080/"
        },
        "id": "gxWol8XbXxP4",
        "outputId": "3293a395-21af-4ef1-c0e4-9c61c459b06d"
      },
      "execution_count": null,
      "outputs": [
        {
          "output_type": "execute_result",
          "data": {
            "text/plain": [
              "541909"
            ]
          },
          "metadata": {},
          "execution_count": 4
        }
      ]
    },
    {
      "cell_type": "code",
      "source": [
        "df.select('CustomerID').distinct().count()"
      ],
      "metadata": {
        "colab": {
          "base_uri": "https://localhost:8080/"
        },
        "id": "Of1rQavvX06j",
        "outputId": "50e4a678-8d70-44aa-db7b-126a640d6b08"
      },
      "execution_count": null,
      "outputs": [
        {
          "output_type": "execute_result",
          "data": {
            "text/plain": [
              "4373"
            ]
          },
          "metadata": {},
          "execution_count": 5
        }
      ]
    },
    {
      "cell_type": "markdown",
      "source": [
        "Loc nhung don hang bi huy"
      ],
      "metadata": {
        "id": "I2c4JUEVYEez"
      }
    },
    {
      "cell_type": "code",
      "source": [
        "df_filter = df.select(\"*\").filter(~col(\"InvoiceNo\").startswith(\"C\"))\n",
        "df_filter.count()\n"
      ],
      "metadata": {
        "colab": {
          "base_uri": "https://localhost:8080/"
        },
        "id": "iNoyhOkBYLTy",
        "outputId": "7995396d-b48b-4ac7-f716-0c012d46e712"
      },
      "execution_count": null,
      "outputs": [
        {
          "output_type": "execute_result",
          "data": {
            "text/plain": [
              "532621"
            ]
          },
          "metadata": {},
          "execution_count": 6
        }
      ]
    },
    {
      "cell_type": "code",
      "source": [
        "df_filter.select('CustomerID').distinct().count()"
      ],
      "metadata": {
        "colab": {
          "base_uri": "https://localhost:8080/"
        },
        "id": "zAxH-ztnZDdD",
        "outputId": "05671b72-a771-4466-8695-70503fc0a6ed"
      },
      "execution_count": null,
      "outputs": [
        {
          "output_type": "execute_result",
          "data": {
            "text/plain": [
              "4340"
            ]
          },
          "metadata": {},
          "execution_count": 7
        }
      ]
    },
    {
      "cell_type": "code",
      "source": [
        "df = df_filter\n",
        "# Cac quốc gia có số lượng khách hàng thế nào\n",
        "df.groupBy('Country').agg(countDistinct('CustomerID').alias('country_count')).orderBy(desc('country_count')).show()"
      ],
      "metadata": {
        "colab": {
          "base_uri": "https://localhost:8080/"
        },
        "id": "y59P8ZtbZ5pL",
        "outputId": "627fc5e7-500b-4ad3-8a34-e1f11be6fa9c"
      },
      "execution_count": null,
      "outputs": [
        {
          "output_type": "stream",
          "name": "stdout",
          "text": [
            "+---------------+-------------+\n",
            "|        Country|country_count|\n",
            "+---------------+-------------+\n",
            "| United Kingdom|         3921|\n",
            "|        Germany|           94|\n",
            "|         France|           87|\n",
            "|          Spain|           30|\n",
            "|        Belgium|           25|\n",
            "|    Switzerland|           21|\n",
            "|       Portugal|           19|\n",
            "|          Italy|           14|\n",
            "|        Finland|           12|\n",
            "|        Austria|           11|\n",
            "|         Norway|           10|\n",
            "|        Denmark|            9|\n",
            "|Channel Islands|            9|\n",
            "|      Australia|            9|\n",
            "|    Netherlands|            9|\n",
            "|         Sweden|            8|\n",
            "|         Cyprus|            8|\n",
            "|          Japan|            8|\n",
            "|         Poland|            6|\n",
            "|         Greece|            4|\n",
            "+---------------+-------------+\n",
            "only showing top 20 rows\n",
            "\n"
          ]
        }
      ]
    },
    {
      "cell_type": "code",
      "source": [
        "# Định dạng lại trường dữ liệu ngày tháng thành timestamp để có thể sort, tìm min hoặc max\n",
        "spark.sql(\"set spark.sql.legacy.timeParserPolicy=LEGACY\")\n",
        "df = df.withColumn('date',to_timestamp(\"InvoiceDate\", 'yy-MM-dd HH:mm:ss'))\n",
        "\n",
        "# Ngày có đơn hàng gần đây nhất\n",
        "df.select(max(\"date\")).show()"
      ],
      "metadata": {
        "colab": {
          "base_uri": "https://localhost:8080/"
        },
        "id": "dpUo1KDefqMq",
        "outputId": "cf60451e-f1cd-47e1-f118-8839cc3ecb04"
      },
      "execution_count": null,
      "outputs": [
        {
          "output_type": "stream",
          "name": "stdout",
          "text": [
            "+-------------------+\n",
            "|          max(date)|\n",
            "+-------------------+\n",
            "|2011-12-09 12:50:00|\n",
            "+-------------------+\n",
            "\n"
          ]
        }
      ]
    },
    {
      "cell_type": "code",
      "source": [
        "#Ngày có đơn hàng đầu tiên\n",
        "df.select(min(\"date\")).show()"
      ],
      "metadata": {
        "colab": {
          "base_uri": "https://localhost:8080/"
        },
        "id": "uNVj1kR0kaGq",
        "outputId": "87972b29-ceef-4207-ae13-c0cf91c71e99"
      },
      "execution_count": null,
      "outputs": [
        {
          "output_type": "stream",
          "name": "stdout",
          "text": [
            "+-------------------+\n",
            "|          min(date)|\n",
            "+-------------------+\n",
            "|2010-12-01 08:26:00|\n",
            "+-------------------+\n",
            "\n"
          ]
        }
      ]
    },
    {
      "cell_type": "markdown",
      "source": [],
      "metadata": {
        "id": "amEzcJxmZ3Mg"
      }
    },
    {
      "cell_type": "markdown",
      "source": [
        "XỬ LÝ DỮ LIỆU\n"
      ],
      "metadata": {
        "id": "ak0iLPsllT3A"
      }
    },
    {
      "cell_type": "markdown",
      "source": [
        "RECENCY\n"
      ],
      "metadata": {
        "id": "mOkzJ4jzlYbl"
      }
    },
    {
      "cell_type": "code",
      "source": [
        "df = df.withColumn(\"from_date\", lit(\"2010-12-01 08:26:00\"))\n",
        "df = df.withColumn('from_date',to_timestamp(\"from_date\", 'yy-MM-dd HH:mm'))\n",
        "\n",
        "df2=df.withColumn('from_date',to_timestamp(col('from_date'))).withColumn('recency',col(\"date\").cast(\"long\") - col('from_date').cast(\"long\"))\n",
        "df2 = df2.join(df2.groupBy('CustomerID').agg(max('recency').alias('recency')),on='recency',how='leftsemi')\n",
        "df2.show()"
      ],
      "metadata": {
        "colab": {
          "base_uri": "https://localhost:8080/"
        },
        "id": "I6RahCKzlAsa",
        "outputId": "dd644781-8201-4e6c-e05a-61893f4185b4"
      },
      "execution_count": null,
      "outputs": [
        {
          "output_type": "stream",
          "name": "stdout",
          "text": [
            "+-------+---------+---------+--------------------+--------+-------------------+---------+----------+--------------+-------------------+-------------------+\n",
            "|recency|InvoiceNo|StockCode|         Description|Quantity|        InvoiceDate|UnitPrice|CustomerID|       Country|               date|          from_date|\n",
            "+-------+---------+---------+--------------------+--------+-------------------+---------+----------+--------------+-------------------+-------------------+\n",
            "|   5220|   536384|    82484|WOOD BLACK BOARD ...|       3|2010-12-01 09:53:00|     6.45|   18074.0|United Kingdom|2010-12-01 09:53:00|2010-12-01 08:26:00|\n",
            "|   5220|   536384|    84755|COLOUR GLASS T-LI...|      48|2010-12-01 09:53:00|     0.65|   18074.0|United Kingdom|2010-12-01 09:53:00|2010-12-01 08:26:00|\n",
            "|   5220|   536384|    22464|HANGING METAL HEA...|      12|2010-12-01 09:53:00|     1.65|   18074.0|United Kingdom|2010-12-01 09:53:00|2010-12-01 08:26:00|\n",
            "|   5220|   536384|    21324|HANGING MEDINA LA...|       6|2010-12-01 09:53:00|     2.95|   18074.0|United Kingdom|2010-12-01 09:53:00|2010-12-01 08:26:00|\n",
            "|   5220|   536384|    22457|NATURAL SLATE HEA...|      12|2010-12-01 09:53:00|     2.95|   18074.0|United Kingdom|2010-12-01 09:53:00|2010-12-01 08:26:00|\n",
            "|   5220|   536384|    22469|HEART OF WICKER S...|      40|2010-12-01 09:53:00|     1.45|   18074.0|United Kingdom|2010-12-01 09:53:00|2010-12-01 08:26:00|\n",
            "|   5220|   536384|    22470|HEART OF WICKER L...|      40|2010-12-01 09:53:00|     2.55|   18074.0|United Kingdom|2010-12-01 09:53:00|2010-12-01 08:26:00|\n",
            "|   5220|   536384|    22224|WHITE LOVEBIRD LA...|       6|2010-12-01 09:53:00|     2.95|   18074.0|United Kingdom|2010-12-01 09:53:00|2010-12-01 08:26:00|\n",
            "|   5220|   536384|    21340|CLASSIC METAL BIR...|       2|2010-12-01 09:53:00|    12.75|   18074.0|United Kingdom|2010-12-01 09:53:00|2010-12-01 08:26:00|\n",
            "|   5220|   536384|    22189|CREAM HEART CARD ...|       4|2010-12-01 09:53:00|     3.95|   18074.0|United Kingdom|2010-12-01 09:53:00|2010-12-01 08:26:00|\n",
            "|   5220|   536384|    22427|ENAMEL FLOWER JUG...|       3|2010-12-01 09:53:00|     5.95|   18074.0|United Kingdom|2010-12-01 09:53:00|2010-12-01 08:26:00|\n",
            "|   5220|   536384|    22428|ENAMEL FIRE BUCKE...|       6|2010-12-01 09:53:00|     6.95|   18074.0|United Kingdom|2010-12-01 09:53:00|2010-12-01 08:26:00|\n",
            "|   5220|   536384|    22424|ENAMEL BREAD BIN ...|       8|2010-12-01 09:53:00|    10.95|   18074.0|United Kingdom|2010-12-01 09:53:00|2010-12-01 08:26:00|\n",
            "|   7860|   536393|    22180|      RETROSPOT LAMP|       8|2010-12-01 10:37:00|     9.95|   13747.0|United Kingdom|2010-12-01 10:37:00|2010-12-01 08:26:00|\n",
            "|  10860|   536403|    22867|HAND WARMER BIRD ...|      96|2010-12-01 11:27:00|     1.85|   12791.0|   Netherlands|2010-12-01 11:27:00|2010-12-01 08:26:00|\n",
            "|  10860|   536403|     POST|             POSTAGE|       1|2010-12-01 11:27:00|     15.0|   12791.0|   Netherlands|2010-12-01 11:27:00|2010-12-01 08:26:00|\n",
            "|  11940|   536409|   90199C|5 STRAND GLASS NE...|       3|2010-12-01 11:45:00|     6.35|   17908.0|United Kingdom|2010-12-01 11:45:00|2010-12-01 08:26:00|\n",
            "|  11940|   536409|    21479|WHITE SKULL HOT W...|       1|2010-12-01 11:45:00|     3.75|   17908.0|United Kingdom|2010-12-01 11:45:00|2010-12-01 08:26:00|\n",
            "|  11940|   536409|    22111|SCOTTIE DOG HOT W...|       1|2010-12-01 11:45:00|     4.95|   17908.0|United Kingdom|2010-12-01 11:45:00|2010-12-01 08:26:00|\n",
            "|  11940|   536409|    22785|SQUARECUSHION COV...|       1|2010-12-01 11:45:00|     6.75|   17908.0|United Kingdom|2010-12-01 11:45:00|2010-12-01 08:26:00|\n",
            "+-------+---------+---------+--------------------+--------+-------------------+---------+----------+--------------+-------------------+-------------------+\n",
            "only showing top 20 rows\n",
            "\n"
          ]
        }
      ]
    },
    {
      "cell_type": "markdown",
      "source": [
        "FREQUENCY"
      ],
      "metadata": {
        "id": "taQUe06PnuVc"
      }
    },
    {
      "cell_type": "code",
      "source": [
        "df_freq = df2.groupBy('CustomerID').agg(count('InvoiceNo').alias('frequency'))\n",
        "df_freq.show()"
      ],
      "metadata": {
        "colab": {
          "base_uri": "https://localhost:8080/"
        },
        "id": "Iy2LtHxLnwFz",
        "outputId": "6d6c7069-081c-436d-97e4-ea42446e597c"
      },
      "execution_count": null,
      "outputs": [
        {
          "output_type": "stream",
          "name": "stdout",
          "text": [
            "+----------+---------+\n",
            "|CustomerID|frequency|\n",
            "+----------+---------+\n",
            "|   17786.0|       72|\n",
            "|   16917.0|        9|\n",
            "|   15891.0|       62|\n",
            "|   17955.0|        1|\n",
            "|   14542.0|        5|\n",
            "|   12891.0|        1|\n",
            "|   16553.0|        1|\n",
            "|   14532.0|       20|\n",
            "|   17536.0|        3|\n",
            "|   14722.0|       29|\n",
            "|   13827.0|       65|\n",
            "|   17353.0|        4|\n",
            "|   15070.0|        1|\n",
            "|   16351.0|        8|\n",
            "|   18085.0|       20|\n",
            "|   12350.0|       17|\n",
            "|   14727.0|       10|\n",
            "|   16838.0|       11|\n",
            "|   13533.0|       33|\n",
            "|   15016.0|       20|\n",
            "+----------+---------+\n",
            "only showing top 20 rows\n",
            "\n"
          ]
        }
      ]
    },
    {
      "cell_type": "code",
      "source": [
        "#join data\n",
        "df3=df2.join(df_freq,on='CustomerID',how='inner')\n",
        "df3.show()\n"
      ],
      "metadata": {
        "colab": {
          "base_uri": "https://localhost:8080/"
        },
        "id": "3qZrIGWtpI-w",
        "outputId": "b960cb33-6804-4881-9d89-0fcc7738861e"
      },
      "execution_count": null,
      "outputs": [
        {
          "output_type": "stream",
          "name": "stdout",
          "text": [
            "+----------+-------+---------+---------+--------------------+--------+-------------------+---------+--------------+-------------------+-------------------+---------+\n",
            "|CustomerID|recency|InvoiceNo|StockCode|         Description|Quantity|        InvoiceDate|UnitPrice|       Country|               date|          from_date|frequency|\n",
            "+----------+-------+---------+---------+--------------------+--------+-------------------+---------+--------------+-------------------+-------------------+---------+\n",
            "|   18074.0|   5220|   536384|    82484|WOOD BLACK BOARD ...|       3|2010-12-01 09:53:00|     6.45|United Kingdom|2010-12-01 09:53:00|2010-12-01 08:26:00|       13|\n",
            "|   18074.0|   5220|   536384|    84755|COLOUR GLASS T-LI...|      48|2010-12-01 09:53:00|     0.65|United Kingdom|2010-12-01 09:53:00|2010-12-01 08:26:00|       13|\n",
            "|   18074.0|   5220|   536384|    22464|HANGING METAL HEA...|      12|2010-12-01 09:53:00|     1.65|United Kingdom|2010-12-01 09:53:00|2010-12-01 08:26:00|       13|\n",
            "|   18074.0|   5220|   536384|    21324|HANGING MEDINA LA...|       6|2010-12-01 09:53:00|     2.95|United Kingdom|2010-12-01 09:53:00|2010-12-01 08:26:00|       13|\n",
            "|   18074.0|   5220|   536384|    22457|NATURAL SLATE HEA...|      12|2010-12-01 09:53:00|     2.95|United Kingdom|2010-12-01 09:53:00|2010-12-01 08:26:00|       13|\n",
            "|   18074.0|   5220|   536384|    22469|HEART OF WICKER S...|      40|2010-12-01 09:53:00|     1.45|United Kingdom|2010-12-01 09:53:00|2010-12-01 08:26:00|       13|\n",
            "|   18074.0|   5220|   536384|    22470|HEART OF WICKER L...|      40|2010-12-01 09:53:00|     2.55|United Kingdom|2010-12-01 09:53:00|2010-12-01 08:26:00|       13|\n",
            "|   18074.0|   5220|   536384|    22224|WHITE LOVEBIRD LA...|       6|2010-12-01 09:53:00|     2.95|United Kingdom|2010-12-01 09:53:00|2010-12-01 08:26:00|       13|\n",
            "|   18074.0|   5220|   536384|    21340|CLASSIC METAL BIR...|       2|2010-12-01 09:53:00|    12.75|United Kingdom|2010-12-01 09:53:00|2010-12-01 08:26:00|       13|\n",
            "|   18074.0|   5220|   536384|    22189|CREAM HEART CARD ...|       4|2010-12-01 09:53:00|     3.95|United Kingdom|2010-12-01 09:53:00|2010-12-01 08:26:00|       13|\n",
            "|   18074.0|   5220|   536384|    22427|ENAMEL FLOWER JUG...|       3|2010-12-01 09:53:00|     5.95|United Kingdom|2010-12-01 09:53:00|2010-12-01 08:26:00|       13|\n",
            "|   18074.0|   5220|   536384|    22428|ENAMEL FIRE BUCKE...|       6|2010-12-01 09:53:00|     6.95|United Kingdom|2010-12-01 09:53:00|2010-12-01 08:26:00|       13|\n",
            "|   18074.0|   5220|   536384|    22424|ENAMEL BREAD BIN ...|       8|2010-12-01 09:53:00|    10.95|United Kingdom|2010-12-01 09:53:00|2010-12-01 08:26:00|       13|\n",
            "|   13747.0|   7860|   536393|    22180|      RETROSPOT LAMP|       8|2010-12-01 10:37:00|     9.95|United Kingdom|2010-12-01 10:37:00|2010-12-01 08:26:00|        1|\n",
            "|   12791.0|  10860|   536403|    22867|HAND WARMER BIRD ...|      96|2010-12-01 11:27:00|     1.85|   Netherlands|2010-12-01 11:27:00|2010-12-01 08:26:00|        2|\n",
            "|   12791.0|  10860|   536403|     POST|             POSTAGE|       1|2010-12-01 11:27:00|     15.0|   Netherlands|2010-12-01 11:27:00|2010-12-01 08:26:00|        2|\n",
            "|   17908.0|  11940|   536409|   90199C|5 STRAND GLASS NE...|       3|2010-12-01 11:45:00|     6.35|United Kingdom|2010-12-01 11:45:00|2010-12-01 08:26:00|       58|\n",
            "|   17908.0|  11940|   536409|    21479|WHITE SKULL HOT W...|       1|2010-12-01 11:45:00|     3.75|United Kingdom|2010-12-01 11:45:00|2010-12-01 08:26:00|       58|\n",
            "|   17908.0|  11940|   536409|    22111|SCOTTIE DOG HOT W...|       1|2010-12-01 11:45:00|     4.95|United Kingdom|2010-12-01 11:45:00|2010-12-01 08:26:00|       58|\n",
            "|   17908.0|  11940|   536409|    22785|SQUARECUSHION COV...|       1|2010-12-01 11:45:00|     6.75|United Kingdom|2010-12-01 11:45:00|2010-12-01 08:26:00|       58|\n",
            "+----------+-------+---------+---------+--------------------+--------+-------------------+---------+--------------+-------------------+-------------------+---------+\n",
            "only showing top 20 rows\n",
            "\n"
          ]
        }
      ]
    },
    {
      "cell_type": "markdown",
      "source": [
        "MONETARY VALUE\n"
      ],
      "metadata": {
        "id": "0UjrtuwzqMxS"
      }
    },
    {
      "cell_type": "code",
      "source": [
        "m_val = df3.withColumn('TotalAmount',col(\"Quantity\") * col(\"UnitPrice\"))\n",
        "\n",
        "m_val = m_val.groupBy('CustomerID').agg(sum('TotalAmount').alias('monetary_value'))\n",
        "\n",
        "m_val.show()"
      ],
      "metadata": {
        "colab": {
          "base_uri": "https://localhost:8080/"
        },
        "id": "36hGgcPWqXpJ",
        "outputId": "bc194dd2-9617-46a7-a4b0-02d21e7b0acb"
      },
      "execution_count": null,
      "outputs": [
        {
          "output_type": "stream",
          "name": "stdout",
          "text": [
            "+----------+------------------+\n",
            "|CustomerID|    monetary_value|\n",
            "+----------+------------------+\n",
            "|   17786.0|            278.74|\n",
            "|   16917.0| 391.5200000000001|\n",
            "|   15891.0|            524.52|\n",
            "|   17955.0|             163.2|\n",
            "|   14542.0|103.25000000000001|\n",
            "|   12891.0|              85.0|\n",
            "|   16553.0|             204.0|\n",
            "|   14532.0|            140.55|\n",
            "|   17536.0|              76.5|\n",
            "|   14722.0|187.91999999999996|\n",
            "|   13827.0|            299.31|\n",
            "|   17353.0|             870.0|\n",
            "|   15070.0|             106.2|\n",
            "|   16351.0|             153.9|\n",
            "|   18085.0|386.04999999999995|\n",
            "|   12350.0|334.40000000000003|\n",
            "|   14727.0|            268.58|\n",
            "|   16838.0|196.73000000000002|\n",
            "|   13533.0|124.14999999999999|\n",
            "|   15016.0|            170.04|\n",
            "+----------+------------------+\n",
            "only showing top 20 rows\n",
            "\n"
          ]
        }
      ]
    },
    {
      "cell_type": "code",
      "source": [
        "m_val.select('monetary_value').show()"
      ],
      "metadata": {
        "colab": {
          "base_uri": "https://localhost:8080/"
        },
        "id": "eaBfaiB0rD4E",
        "outputId": "4664ba98-5288-4755-9475-91d5eaaa1441"
      },
      "execution_count": null,
      "outputs": [
        {
          "output_type": "stream",
          "name": "stdout",
          "text": [
            "+------------------+\n",
            "|    monetary_value|\n",
            "+------------------+\n",
            "|            278.74|\n",
            "| 391.5200000000001|\n",
            "|            524.52|\n",
            "|             163.2|\n",
            "|103.25000000000001|\n",
            "|              85.0|\n",
            "|             204.0|\n",
            "|            140.55|\n",
            "|              76.5|\n",
            "|187.91999999999996|\n",
            "|            299.31|\n",
            "|             870.0|\n",
            "|             106.2|\n",
            "|             153.9|\n",
            "|386.04999999999995|\n",
            "|334.40000000000003|\n",
            "|            268.58|\n",
            "|196.73000000000002|\n",
            "|124.14999999999999|\n",
            "|            170.04|\n",
            "+------------------+\n",
            "only showing top 20 rows\n",
            "\n"
          ]
        }
      ]
    },
    {
      "cell_type": "code",
      "source": [
        "# join\n",
        "final_df = m_val.join(df3,on='CustomerID',how='inner')\n",
        "final_df.show()\n",
        "\n",
        "\n"
      ],
      "metadata": {
        "colab": {
          "base_uri": "https://localhost:8080/"
        },
        "id": "CL76NPUoraCu",
        "outputId": "c818d21b-001c-4ba8-af36-b3d7888f896d"
      },
      "execution_count": null,
      "outputs": [
        {
          "output_type": "stream",
          "name": "stdout",
          "text": [
            "+----------+--------------+-------+---------+---------+--------------------+--------+-------------------+---------+--------------+-------------------+-------------------+---------+\n",
            "|CustomerID|monetary_value|recency|InvoiceNo|StockCode|         Description|Quantity|        InvoiceDate|UnitPrice|       Country|               date|          from_date|frequency|\n",
            "+----------+--------------+-------+---------+---------+--------------------+--------+-------------------+---------+--------------+-------------------+-------------------+---------+\n",
            "|   17786.0|        278.74|4860540|   542239|    21166|COOK WITH WINE ME...|       3|2011-01-26 14:35:00|     1.95|United Kingdom|2011-01-26 14:35:00|2010-12-01 08:26:00|       72|\n",
            "|   17786.0|        278.74|4860540|   542239|    21181|PLEASE ONE PERSON...|       2|2011-01-26 14:35:00|      2.1|United Kingdom|2011-01-26 14:35:00|2010-12-01 08:26:00|       72|\n",
            "|   17786.0|        278.74|4860540|   542239|    85150|LADIES & GENTLEME...|       1|2011-01-26 14:35:00|     2.55|United Kingdom|2011-01-26 14:35:00|2010-12-01 08:26:00|       72|\n",
            "|   17786.0|        278.74|4860540|   542239|    85152|HAND OVER THE CHO...|       3|2011-01-26 14:35:00|      2.1|United Kingdom|2011-01-26 14:35:00|2010-12-01 08:26:00|       72|\n",
            "|   17786.0|        278.74|4860540|   542239|    21908|CHOCOLATE THIS WA...|       1|2011-01-26 14:35:00|      2.1|United Kingdom|2011-01-26 14:35:00|2010-12-01 08:26:00|       72|\n",
            "|   17786.0|        278.74|4860540|   542239|    22413|METAL SIGN TAKE I...|       1|2011-01-26 14:35:00|     2.95|United Kingdom|2011-01-26 14:35:00|2010-12-01 08:26:00|       72|\n",
            "|   17786.0|        278.74|4860540|   542239|   85123A|WHITE HANGING HEA...|       2|2011-01-26 14:35:00|     2.95|United Kingdom|2011-01-26 14:35:00|2010-12-01 08:26:00|       72|\n",
            "|   17786.0|        278.74|4860540|   542239|    22189|CREAM HEART CARD ...|       1|2011-01-26 14:35:00|     3.95|United Kingdom|2011-01-26 14:35:00|2010-12-01 08:26:00|       72|\n",
            "|   17786.0|        278.74|4860540|   542239|    22349|DOG BOWL CHASING ...|       1|2011-01-26 14:35:00|     3.75|United Kingdom|2011-01-26 14:35:00|2010-12-01 08:26:00|       72|\n",
            "|   17786.0|        278.74|4860540|   542239|    22627| MINT KITCHEN SCALES|       1|2011-01-26 14:35:00|      8.5|United Kingdom|2011-01-26 14:35:00|2010-12-01 08:26:00|       72|\n",
            "|   17786.0|        278.74|4860540|   542239|    22464|HANGING METAL HEA...|       1|2011-01-26 14:35:00|     1.65|United Kingdom|2011-01-26 14:35:00|2010-12-01 08:26:00|       72|\n",
            "|   17786.0|        278.74|4860540|   542239|    22625|  RED KITCHEN SCALES|       1|2011-01-26 14:35:00|      8.5|United Kingdom|2011-01-26 14:35:00|2010-12-01 08:26:00|       72|\n",
            "|   17786.0|        278.74|4860540|   542239|   17164B|ASS COL SMALL SAN...|       1|2011-01-26 14:35:00|     0.42|United Kingdom|2011-01-26 14:35:00|2010-12-01 08:26:00|       72|\n",
            "|   17786.0|        278.74|4860540|   542239|   47578A|ENGLISH ROSE SMAL...|       1|2011-01-26 14:35:00|     0.85|United Kingdom|2011-01-26 14:35:00|2010-12-01 08:26:00|       72|\n",
            "|   17786.0|        278.74|4860540|   542239|    21407|BROWN CHECK CAT D...|       1|2011-01-26 14:35:00|     4.25|United Kingdom|2011-01-26 14:35:00|2010-12-01 08:26:00|       72|\n",
            "|   17786.0|        278.74|4860540|   542239|   85040B|SET/4 BLUE FLOWER...|       1|2011-01-26 14:35:00|     1.65|United Kingdom|2011-01-26 14:35:00|2010-12-01 08:26:00|       72|\n",
            "|   17786.0|        278.74|4860540|   542239|    21114|LAVENDER SCENTED ...|      10|2011-01-26 14:35:00|     1.25|United Kingdom|2011-01-26 14:35:00|2010-12-01 08:26:00|       72|\n",
            "|   17786.0|        278.74|4860540|   542239|    22189|CREAM HEART CARD ...|       1|2011-01-26 14:35:00|     3.95|United Kingdom|2011-01-26 14:35:00|2010-12-01 08:26:00|       72|\n",
            "|   17786.0|        278.74|4860540|   542239|    21166|COOK WITH WINE ME...|       1|2011-01-26 14:35:00|     1.95|United Kingdom|2011-01-26 14:35:00|2010-12-01 08:26:00|       72|\n",
            "|   17786.0|        278.74|4860540|   542239|    21174|POTTERING IN THE ...|       1|2011-01-26 14:35:00|     1.95|United Kingdom|2011-01-26 14:35:00|2010-12-01 08:26:00|       72|\n",
            "+----------+--------------+-------+---------+---------+--------------------+--------+-------------------+---------+--------------+-------------------+-------------------+---------+\n",
            "only showing top 20 rows\n",
            "\n"
          ]
        }
      ]
    },
    {
      "cell_type": "markdown",
      "source": [
        "DỮ LIỆU CHO MÔ HÌNH HỌC MÁY"
      ],
      "metadata": {
        "id": "-rjIno_elTGJ"
      }
    },
    {
      "cell_type": "code",
      "source": [
        "final_df = final_df.select(['recency','frequency','monetary_value','CustomerID']).distinct()\n",
        "final_df.show()"
      ],
      "metadata": {
        "colab": {
          "base_uri": "https://localhost:8080/"
        },
        "id": "AvARl9qMlSqi",
        "outputId": "4396c1f9-a371-4d27-a1cb-1c742b094228"
      },
      "execution_count": null,
      "outputs": [
        {
          "output_type": "stream",
          "name": "stdout",
          "text": [
            "+--------+---------+------------------+----------+\n",
            "| recency|frequency|    monetary_value|CustomerID|\n",
            "+--------+---------+------------------+----------+\n",
            "| 4860540|       72|            278.74|   17786.0|\n",
            "| 8393340|        9| 391.5200000000001|   16917.0|\n",
            "|12715740|       62|            524.52|   15891.0|\n",
            "|15132840|        1|             163.2|   17955.0|\n",
            "|16242780|        5|103.25000000000001|   14542.0|\n",
            "|16257900|        1|              85.0|   12891.0|\n",
            "|18170160|        1|             204.0|   16553.0|\n",
            "|11853540|       20|            140.55|   14532.0|\n",
            "|16952220|        3|              76.5|   17536.0|\n",
            "|19549920|       29|187.91999999999996|   14722.0|\n",
            "|20747940|       65|            299.31|   13827.0|\n",
            "|21113580|        4|             870.0|   17353.0|\n",
            "|   97020|        1|             106.2|   15070.0|\n",
            "| 3549600|        8|             153.9|   16351.0|\n",
            "| 3739860|       20|386.04999999999995|   18085.0|\n",
            "| 5470500|       17|334.40000000000003|   12350.0|\n",
            "| 8576340|       10|            268.58|   14727.0|\n",
            "|15223620|       11|196.73000000000002|   16838.0|\n",
            "|16514880|       33|124.14999999999999|   13533.0|\n",
            "|17379600|       20|            170.04|   15016.0|\n",
            "+--------+---------+------------------+----------+\n",
            "only showing top 20 rows\n",
            "\n"
          ]
        }
      ]
    },
    {
      "cell_type": "markdown",
      "source": [],
      "metadata": {
        "id": "7Xno79sdn0wq"
      }
    },
    {
      "cell_type": "markdown",
      "source": [
        "MÔ HÌNH CHUẨN HÓA"
      ],
      "metadata": {
        "id": "47UaVVkyn2dq"
      }
    },
    {
      "cell_type": "code",
      "source": [
        "from pyspark.ml.feature import VectorAssembler\n",
        "from pyspark.ml.feature import StandardScaler\n",
        "\n",
        "assemble=VectorAssembler(inputCols=[\n",
        "    'recency','frequency','monetary_value'\n",
        "], outputCol='features')\n",
        "\n",
        "assembled_data=assemble.transform(final_df)\n",
        "\n",
        "scale=StandardScaler(inputCol='features',outputCol='standardized')\n",
        "data_scale=scale.fit(assembled_data)\n",
        "data_scale_output=data_scale.transform(assembled_data)\n",
        "data_scale_output.select('standardized').show(2,truncate=False)"
      ],
      "metadata": {
        "colab": {
          "base_uri": "https://localhost:8080/"
        },
        "id": "KG-m83Mzn2HB",
        "outputId": "8f39b84f-2a5c-4dbb-b694-7be9f107cd13"
      },
      "execution_count": null,
      "outputs": [
        {
          "output_type": "stream",
          "name": "stdout",
          "text": [
            "+------------------------------------------------------------+\n",
            "|standardized                                                |\n",
            "+------------------------------------------------------------+\n",
            "|[0.5600258964872293,1.8173891485441467,0.09947228534979743] |\n",
            "|[0.9670710986890596,0.22717364356801834,0.13971941293015963]|\n",
            "+------------------------------------------------------------+\n",
            "only showing top 2 rows\n",
            "\n"
          ]
        }
      ]
    },
    {
      "cell_type": "markdown",
      "source": [
        "XÂY DỰNG MÔ HÌNH K_MEANS\n"
      ],
      "metadata": {
        "id": "i8h1MJp2oiar"
      }
    },
    {
      "cell_type": "markdown",
      "source": [
        "TÌM SỐ CỤM K\n",
        "\n"
      ],
      "metadata": {
        "id": "9qA8my7No8By"
      }
    },
    {
      "cell_type": "code",
      "source": [
        "from pyspark.ml.clustering import KMeans\n",
        "from pyspark.ml.evaluation import ClusteringEvaluator\n",
        "import numpy as np\n",
        "from tqdm import tqdm\n",
        "\n",
        "\n",
        "cost = np.zeros(10)\n",
        "\n",
        "evaluator = ClusteringEvaluator(predictionCol='prediction', featuresCol='standardized',metricName='silhouette', distanceMeasure='squaredEuclidean')\n",
        "\n",
        "for i in tqdm(range(2,10)):\n",
        "    KMeans_algo=KMeans(featuresCol='standardized', k=i)\n",
        "    KMeans_fit=KMeans_algo.fit(data_scale_output)\n",
        "    output=KMeans_fit.transform(data_scale_output)\n",
        "    cost[i] = KMeans_fit.summary.trainingCost"
      ],
      "metadata": {
        "colab": {
          "base_uri": "https://localhost:8080/"
        },
        "id": "eKsZlUJoopjj",
        "outputId": "4d80c03c-cf10-475f-c084-3c1fbe4d759d"
      },
      "execution_count": null,
      "outputs": [
        {
          "output_type": "stream",
          "name": "stderr",
          "text": [
            "100%|██████████| 8/8 [07:25<00:00, 55.69s/it]\n"
          ]
        }
      ]
    },
    {
      "cell_type": "code",
      "source": [
        "import pandas as pd\n",
        "import pylab as pl\n",
        "df_cost = pd.DataFrame(cost[2:])\n",
        "df_cost.columns = [\"cost\"]\n",
        "new_col = range(2,10)\n",
        "df_cost.insert(0, 'cluster', new_col)\n",
        "pl.plot(df_cost.cluster, df_cost.cost)\n",
        "pl.xlabel('Number of Clusters')\n",
        "pl.ylabel('Score')\n",
        "pl.title('Elbow Curve')\n",
        "pl.show()"
      ],
      "metadata": {
        "colab": {
          "base_uri": "https://localhost:8080/",
          "height": 472
        },
        "id": "9RwYM1dhpOUT",
        "outputId": "8db481f2-0397-4efb-d576-1444a32405fb"
      },
      "execution_count": null,
      "outputs": [
        {
          "output_type": "display_data",
          "data": {
            "text/plain": [
              "<Figure size 640x480 with 1 Axes>"
            ],
            "image/png": "[encoded data removed]"
          },
          "metadata": {}
        }
      ]
    },
    {
      "cell_type": "markdown",
      "source": [
        "CHỌN K=4\n"
      ],
      "metadata": {
        "id": "UBljfwCZziI0"
      }
    },
    {
      "cell_type": "code",
      "source": [
        "kmeans_algo=KMeans(featuresCol='standardized', k=4)\n",
        "kmeans_fit=kmeans_algo.fit(data_scale_output)"
      ],
      "metadata": {
        "id": "amBwSzKUsDXz"
      },
      "execution_count": null,
      "outputs": []
    },
    {
      "cell_type": "markdown",
      "source": [
        "TIẾN HÀNH DỰ ĐOÁN CỤM"
      ],
      "metadata": {
        "id": "QcFPKDBBslRq"
      }
    },
    {
      "cell_type": "code",
      "source": [
        "preds=kmeans_fit.transform(data_scale_output)\n",
        "preds.show(5)"
      ],
      "metadata": {
        "colab": {
          "base_uri": "https://localhost:8080/"
        },
        "id": "oBU9IVVmspDL",
        "outputId": "b5bad115-9d20-44bf-9e84-8f53677474c6"
      },
      "execution_count": null,
      "outputs": [
        {
          "output_type": "stream",
          "name": "stdout",
          "text": [
            "+--------+---------+------------------+----------+--------------------+--------------------+----------+\n",
            "| recency|frequency|    monetary_value|CustomerID|            features|        standardized|prediction|\n",
            "+--------+---------+------------------+----------+--------------------+--------------------+----------+\n",
            "| 4860540|       72|            278.74|   17786.0|[4860540.0,72.0,2...|[0.56002589648722...|         2|\n",
            "| 8393340|        9| 391.5200000000001|   16917.0|[8393340.0,9.0,39...|[0.96707109868905...|         2|\n",
            "|12715740|       62|            524.52|   15891.0|[1.271574E7,62.0,...|[1.46509311578518...|         2|\n",
            "|15132840|        1|             163.2|   17955.0|[1.513284E7,1.0,1...|[1.74358863159192...|         2|\n",
            "|16242780|        5|103.25000000000001|   14542.0|[1.624278E7,5.0,1...|[1.87147465733125...|         2|\n",
            "+--------+---------+------------------+----------+--------------------+--------------------+----------+\n",
            "only showing top 5 rows\n",
            "\n"
          ]
        }
      ]
    },
    {
      "cell_type": "markdown",
      "source": [
        "TRỰC QUAN HÓA PHÂN CỤM"
      ],
      "metadata": {
        "id": "lNMcQRRrs88a"
      }
    },
    {
      "cell_type": "code",
      "source": [
        "import matplotlib.pyplot as plt\n",
        "import seaborn as sns\n",
        "\n",
        "df_viz = preds.select('recency','frequency','monetary_value','prediction')\n",
        "df_viz = df_viz.toPandas()\n",
        "avg_df = df_viz.groupby(['prediction'], as_index=False).mean()\n",
        "\n",
        "list_value = ['recency','frequency','monetary_value']\n",
        "\n",
        "for i in list_value:\n",
        "    sns.barplot(x='prediction',y=str(i),data=avg_df)\n",
        "    plt.show()"
      ],
      "metadata": {
        "colab": {
          "base_uri": "https://localhost:8080/",
          "height": 1000
        },
        "id": "YjvAbIG-tAq5",
        "outputId": "f87bcf66-9d14-4d58-b0da-222c5ea0c543"
      },
      "execution_count": null,
      "outputs": [
        {
          "output_type": "display_data",
          "data": {
            "text/plain": [
              "<Figure size 640x480 with 1 Axes>"
            ],
            "image/png": "[encoded data removed]"
          },
          "metadata": {}
        },
        {
          "output_type": "display_data",
          "data": {
            "text/plain": [
              "<Figure size 640x480 with 1 Axes>"
            ],
            "image/png": "[encoded data removed]"
          },
          "metadata": {}
        },
        {
          "output_type": "display_data",
          "data": {
            "text/plain": [
              "<Figure size 640x480 with 1 Axes>"
            ],
            "image/png": "[encoded data removed]"
          },
          "metadata": {}
        }
      ]
    },
    {
      "cell_type": "markdown",
      "source": [
        "# Mục mới"
      ],
      "metadata": {
        "id": "n2aGeXOXWrcN"
      }
    }
  ]
}