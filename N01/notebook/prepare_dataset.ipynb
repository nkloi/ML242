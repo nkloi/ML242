{
 "cells": [
  {
   "cell_type": "markdown",
   "metadata": {},
   "source": [
    "# CONCEPT\n",
    "1. Read dataset folder\n",
    "2. Preprocessing dataset function\n",
    "3. Save preprocessing dataset\n",
    "4. Create dataset.csv\n",
    "5. Split dataset -> Save\n",
    "\n",
    "Explain label:\n",
    "    '+' -> 10 ;\n",
    "    '-' -> 11 ;\n",
    "    '*' -> 12 ;\n",
    "    ':' -> 13 ;\n",
    "    '=' -> 14 ;\n"
   ]
  },
  {
   "cell_type": "code",
   "execution_count": 11,
   "metadata": {},
   "outputs": [],
   "source": [
    "from sklearn.utils import shuffle\n",
    "from sklearn.model_selection import train_test_split    \n",
    "\n",
    "import cv2\n",
    "import os\n",
    "import shutil\n",
    "import pandas as pd \n",
    "import seaborn as sns\n",
    "import csv\n",
    "import matplotlib.pyplot as plt\n",
    "\n",
    "raw_dataset_path = '../extracted_images'"
   ]
  },
  {
   "cell_type": "markdown",
   "metadata": {},
   "source": [
    "## 1. Read dataset folder"
   ]
  },
  {
   "cell_type": "code",
   "execution_count": 12,
   "metadata": {},
   "outputs": [],
   "source": [
    "def dataset_checker(folder_path = \"./raw_dataset\"):\n",
    "    \"\"\"\n",
    "        1. number of folders\n",
    "        2. name of folders\n",
    "        3. number of files\n",
    "    \"\"\"\n",
    "    print(\"--------------------DATASET CHECKER--------------------\")\n",
    "    print(\"Folder: {}\".format(folder_path))\n",
    "    folder_names = []\n",
    "    for item in os.listdir(folder_path):\n",
    "        if os.path.isdir(os.path.join(folder_path, item)):\n",
    "            folder_names.append(item)\n",
    "    folder_names.sort()\n",
    "\n",
    "    # Print\n",
    "    print(\"There are {} folders\".format(len(folder_names)))\n",
    "    for folder in folder_names:\n",
    "        print(\"Folder name: {} \\t\\t; Number of files: {}\".format(folder, len(os.listdir(os.path.join(folder_path, folder)))))\n",
    "\n",
    "    return folder_names\n"
   ]
  },
  {
   "cell_type": "code",
   "execution_count": 13,
   "metadata": {},
   "outputs": [
    {
     "name": "stdout",
     "output_type": "stream",
     "text": [
      "--------------------DATASET CHECKER--------------------\n",
      "Folder: ../extracted_images\n",
      "There are 15 folders\n",
      "Folder name: 0 \t\t; Number of files: 3000\n",
      "Folder name: 1 \t\t; Number of files: 3000\n",
      "Folder name: 2 \t\t; Number of files: 3000\n",
      "Folder name: 3 \t\t; Number of files: 3000\n",
      "Folder name: 4 \t\t; Number of files: 3000\n",
      "Folder name: 5 \t\t; Number of files: 3000\n",
      "Folder name: 6 \t\t; Number of files: 3000\n",
      "Folder name: 7 \t\t; Number of files: 3000\n",
      "Folder name: 8 \t\t; Number of files: 3000\n",
      "Folder name: 9 \t\t; Number of files: 3000\n",
      "Folder name: div \t\t; Number of files: 3000\n",
      "Folder name: equal \t\t; Number of files: 3000\n",
      "Folder name: minus \t\t; Number of files: 3000\n",
      "Folder name: plus \t\t; Number of files: 3000\n",
      "Folder name: times \t\t; Number of files: 3000\n"
     ]
    },
    {
     "data": {
      "text/plain": [
       "['0',\n",
       " '1',\n",
       " '2',\n",
       " '3',\n",
       " '4',\n",
       " '5',\n",
       " '6',\n",
       " '7',\n",
       " '8',\n",
       " '9',\n",
       " 'div',\n",
       " 'equal',\n",
       " 'minus',\n",
       " 'plus',\n",
       " 'times']"
      ]
     },
     "execution_count": 13,
     "metadata": {},
     "output_type": "execute_result"
    }
   ],
   "source": [
    "dataset_checker(raw_dataset_path)"
   ]
  },
  {
   "cell_type": "markdown",
   "metadata": {},
   "source": [
    "## 2. Preprocessing dataset"
   ]
  },
  {
   "cell_type": "code",
   "execution_count": 14,
   "metadata": {},
   "outputs": [],
   "source": [
    "# Read and preprocessing dataset\n",
    "def preprocess_image(image_path):\n",
    "    # Đọc ảnh gốc (Grayscale)\n",
    "    img = cv2.imread(image_path, cv2.IMREAD_GRAYSCALE)\n",
    "    if img is None:\n",
    "        print(f\"Lỗi: Không thể đọc {image_path}\")\n",
    "        return 0\n",
    "    img = cv2.resize(img, (28,28), interpolation=cv2.INTER_AREA)\n",
    "    img = cv2.GaussianBlur(img, (5,5), 0)\n",
    "    img = 255 - img\n",
    "    _, otsu_thresh = cv2.threshold(img, 0, 255, cv2.THRESH_BINARY + cv2.THRESH_OTSU)\n",
    "\n",
    "    rows, cols = img.shape\n",
    "    for i in range(rows):\n",
    "        for j in range(cols):\n",
    "            k = img[i, j]\n",
    "            if k < _:\n",
    "                img[i, j] = 0\n",
    "    return img\n"
   ]
  },
  {
   "cell_type": "code",
   "execution_count": 15,
   "metadata": {},
   "outputs": [
    {
     "name": "stdout",
     "output_type": "stream",
     "text": [
      "(45, 45)\n"
     ]
    },
    {
     "data": {
      "text/plain": [
       "<matplotlib.image.AxesImage at 0x186822e20d0>"
      ]
     },
     "execution_count": 15,
     "metadata": {},
     "output_type": "execute_result"
    },
    {
     "data": {
      "image/png": "[encoded data removed]",
      "text/plain": [
       "<Figure size 640x480 with 1 Axes>"
      ]
     },
     "metadata": {},
     "output_type": "display_data"
    }
   ],
   "source": [
    "image_path = '{}/0/0001.jpg'.format(raw_dataset_path)\n",
    "\n",
    "img = cv2.imread(image_path, cv2.IMREAD_GRAYSCALE)\n",
    "if img is None:\n",
    "    print(f\"Lỗi: Không thể đọc {image_path}\")\n",
    "\n",
    "print(img.shape)\n",
    "plt.imshow(img, cmap='gray')\n"
   ]
  },
  {
   "cell_type": "code",
   "execution_count": 16,
   "metadata": {},
   "outputs": [
    {
     "data": {
      "text/plain": [
       "<matplotlib.image.AxesImage at 0x186845da690>"
      ]
     },
     "execution_count": 16,
     "metadata": {},
     "output_type": "execute_result"
    },
    {
     "data": {
      "image/png": "[encoded data removed]",
      "text/plain": [
       "<Figure size 640x480 with 1 Axes>"
      ]
     },
     "metadata": {},
     "output_type": "display_data"
    }
   ],
   "source": [
    "img = cv2.resize(img, (28,28), interpolation=cv2.INTER_AREA)\n",
    "plt.imshow(img, cmap='gray')"
   ]
  },
  {
   "cell_type": "code",
   "execution_count": 17,
   "metadata": {},
   "outputs": [
    {
     "data": {
      "text/plain": [
       "<matplotlib.image.AxesImage at 0x18684642f10>"
      ]
     },
     "execution_count": 17,
     "metadata": {},
     "output_type": "execute_result"
    },
    {
     "data": {
      "image/png": "[encoded data removed]",
      "text/plain": [
       "<Figure size 640x480 with 1 Axes>"
      ]
     },
     "metadata": {},
     "output_type": "display_data"
    }
   ],
   "source": [
    "img = preprocess_image(image_path)\n",
    "plt.imshow(img, cmap='gray')"
   ]
  },
  {
   "cell_type": "markdown",
   "metadata": {},
   "source": [
    "## 3. Create dataset.csv"
   ]
  },
  {
   "cell_type": "code",
   "execution_count": 18,
   "metadata": {},
   "outputs": [
    {
     "name": "stdout",
     "output_type": "stream",
     "text": [
      "Dataset created at: ../dataset/dataset.csv\n"
     ]
    }
   ],
   "source": [
    "def create_dataset(dataset_path):\n",
    "    # Check for existence\n",
    "    if os.path.exists(dataset_path):\n",
    "        shutil.rmtree(dataset_path)\n",
    "    os.makedirs(dataset_path, exist_ok=True)\n",
    "\n",
    "    # Create new dataset.csv\n",
    "    filename = \"dataset.csv\"\n",
    "    open('{}/{}'.format(dataset_path, filename), 'w').close()\n",
    "    \n",
    "    header = [\"label\"]\n",
    "    for i in range(0, 784):\n",
    "        header.append(\"pixel\" + str(i))\n",
    "    with open('{}/{}'.format(dataset_path, filename), 'w', newline='') as file:\n",
    "        writer = csv.writer(file)\n",
    "        writer.writerow(header)\n",
    "\n",
    "    output_path = \"{}/{}\".format(dataset_path, filename)\n",
    "    print(\"Dataset created at: {}\".format(output_path))\n",
    "\n",
    "    return output_path\n",
    "\n",
    "dataset_folder_path = \"../dataset\"\n",
    "dataset_path = create_dataset(dataset_path = dataset_folder_path)"
   ]
  },
  {
   "cell_type": "code",
   "execution_count": 19,
   "metadata": {},
   "outputs": [],
   "source": [
    "def update_dataset( img, label_name, dataset_path):\n",
    "    # Save img value\n",
    "    data = [label_name]\n",
    "\n",
    "    rows, cols = img.shape\n",
    "    for i in range(rows):\n",
    "        for j in range(cols):\n",
    "            data.append(img[i, j])\n",
    "\n",
    "    with open(dataset_path, 'a', newline='') as file:\n",
    "        writer = csv.writer(file)\n",
    "        writer.writerow(data)"
   ]
  },
  {
   "cell_type": "markdown",
   "metadata": {},
   "source": [
    "## 4. Save preprocessing dataset"
   ]
  },
  {
   "cell_type": "code",
   "execution_count": 20,
   "metadata": {},
   "outputs": [],
   "source": [
    "# Create folder for processed dataset\n",
    "def create_processed_dataset(folder_path , processed_folder_path):\n",
    "    if os.path.exists(processed_folder_path):\n",
    "        #delete folder\n",
    "        shutil.rmtree(processed_folder_path)\n",
    "    \n",
    "    os.makedirs(processed_folder_path, exist_ok=True)\n",
    "    print(\"Create a new folder name {}\".format(processed_folder_path))\n",
    "\n",
    "    for item in os.listdir(folder_path):\n",
    "        if os.path.isdir(os.path.join(folder_path, item)):\n",
    "            os.mkdir(os.path.join(processed_folder_path, item))\n",
    "    print(\"Add {} subfolders done.\".format(len(os.listdir(processed_folder_path))))"
   ]
  },
  {
   "cell_type": "code",
   "execution_count": 21,
   "metadata": {},
   "outputs": [
    {
     "name": "stdout",
     "output_type": "stream",
     "text": [
      "Create a new folder name ../processed_dataset\n",
      "Add 15 subfolders done.\n"
     ]
    }
   ],
   "source": [
    "processed_folder_path = \"../processed_dataset\"\n",
    "folder_path = raw_dataset_path\n",
    "create_processed_dataset(folder_path, processed_folder_path)"
   ]
  },
  {
   "cell_type": "code",
   "execution_count": 22,
   "metadata": {},
   "outputs": [],
   "source": [
    "# Clean dataset then update to processed dataset\n",
    "def clean_dataset(folder_path, processed_folder_path):\n",
    "    for items in os.listdir(folder_path):\n",
    "        for img in os.listdir(os.path.join(folder_path, items)):\n",
    "            if img.endswith('.jpg'):\n",
    "                img_path = os.path.join(folder_path, items, img)\n",
    "\n",
    "                # Process image\n",
    "                img = preprocess_image(image_path = img_path)\n",
    "                file_path = os.path.join(\"{}/{}\".format(processed_folder_path, items), os.path.basename(img_path))\n",
    "                update_dataset(img, items, dataset_path= dataset_path)\n",
    "                \n",
    "                # Save processed image\n",
    "                cv2.imwrite(file_path, img)"
   ]
  },
  {
   "cell_type": "code",
   "execution_count": 23,
   "metadata": {},
   "outputs": [],
   "source": [
    "data = pd.read_csv(dataset_path)\n",
    "data.shape\n",
    "clean_dataset(folder_path, processed_folder_path)"
   ]
  },
  {
   "cell_type": "markdown",
   "metadata": {},
   "source": [
    "## 5. Spit dataset to train and test"
   ]
  },
  {
   "cell_type": "markdown",
   "metadata": {},
   "source": [
    "5.1 Load dataset"
   ]
  },
  {
   "cell_type": "code",
   "execution_count": 24,
   "metadata": {},
   "outputs": [
    {
     "name": "stderr",
     "output_type": "stream",
     "text": [
      "C:\\Users\\Acer\\AppData\\Local\\Temp\\ipykernel_11404\\2003677390.py:1: DtypeWarning: Columns (0) have mixed types. Specify dtype option on import or set low_memory=False.\n",
      "  data = pd.read_csv(dataset_path)\n"
     ]
    },
    {
     "name": "stdout",
     "output_type": "stream",
     "text": [
      "0            0\n",
      "1            0\n",
      "2            0\n",
      "3            0\n",
      "4            0\n",
      "         ...  \n",
      "44995    times\n",
      "44996    times\n",
      "44997    times\n",
      "44998    times\n",
      "44999    times\n",
      "Name: label, Length: 45000, dtype: object\n"
     ]
    },
    {
     "data": {
      "image/png": "[encoded data removed]",
      "text/plain": [
       "<Figure size 640x480 with 1 Axes>"
      ]
     },
     "metadata": {},
     "output_type": "display_data"
    }
   ],
   "source": [
    "data = pd.read_csv(dataset_path)\n",
    "\n",
    "print(data['label'])\n",
    "\n",
    "g = sns.countplot(y = data['label'])"
   ]
  },
  {
   "cell_type": "markdown",
   "metadata": {},
   "source": [
    "5.2 Split dataset.csv into train and test (.csv)"
   ]
  },
  {
   "cell_type": "code",
   "execution_count": 25,
   "metadata": {},
   "outputs": [
    {
     "name": "stdout",
     "output_type": "stream",
     "text": [
      "21951        7\n",
      "16067        5\n",
      "44176    times\n",
      "1904         0\n",
      "41617     plus\n",
      "         ...  \n",
      "20406        6\n",
      "29148        9\n",
      "25063        8\n",
      "44605    times\n",
      "19214        6\n",
      "Name: label, Length: 45000, dtype: object\n"
     ]
    }
   ],
   "source": [
    "# Shuffle the dataset\n",
    "data = shuffle(data)\n",
    "print(data['label'])\n",
    "\n",
    "# Split the dataset\n",
    "train_df, test_df = train_test_split(data, test_size=0.2)\n",
    "\n",
    "# Save the training and testing sets to separate CSV files\n",
    "train_df.to_csv('{}/train.csv'.format(dataset_folder_path), index=False)\n",
    "test_df.to_csv('{}/test.csv'.format(dataset_folder_path), index=False)"
   ]
  },
  {
   "cell_type": "markdown",
   "metadata": {},
   "source": [
    "5.3 Load train and test (.csv)"
   ]
  },
  {
   "cell_type": "code",
   "execution_count": 26,
   "metadata": {},
   "outputs": [
    {
     "name": "stdout",
     "output_type": "stream",
     "text": [
      "Dataset shape: (45000, 785)\n",
      "Train shape: (36000, 785)\n",
      "Test shape: (9000, 785)\n"
     ]
    }
   ],
   "source": [
    "train = pd.read_csv('{}/train.csv'.format(dataset_folder_path))\n",
    "test = pd.read_csv('{}/test.csv'.format(dataset_folder_path))\n",
    "\n",
    "# Checking\n",
    "print(\"Dataset shape: {}\".format(data.shape))\n",
    "print(\"Train shape: {}\".format(train.shape))\n",
    "print(\"Test shape: {}\".format(test.shape))\n"
   ]
  }
 ],
 "metadata": {
  "kernelspec": {
   "display_name": "env",
   "language": "python",
   "name": "python3"
  },
  "language_info": {
   "codemirror_mode": {
    "name": "ipython",
    "version": 3
   },
   "file_extension": ".py",
   "mimetype": "text/x-python",
   "name": "python",
   "nbconvert_exporter": "python",
   "pygments_lexer": "ipython3",
   "version": "3.11.2"
  }
 },
 "nbformat": 4,
 "nbformat_minor": 2
}
