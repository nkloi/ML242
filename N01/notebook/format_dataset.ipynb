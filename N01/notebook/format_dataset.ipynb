{
 "cells": [
  {
   "cell_type": "code",
   "execution_count": null,
   "metadata": {},
   "outputs": [],
   "source": [
    "import os\n",
    "import glob\n",
    "import random"
   ]
  },
  {
   "cell_type": "code",
   "execution_count": null,
   "metadata": {},
   "outputs": [],
   "source": [
    "raw_dataset_path = \"../raw_dataset\""
   ]
  },
  {
   "cell_type": "markdown",
   "metadata": {},
   "source": [
    "# 1. Folder checker"
   ]
  },
  {
   "cell_type": "code",
   "execution_count": 74,
   "metadata": {},
   "outputs": [],
   "source": [
    "def dataset_checker(folder_path = \"./raw_dataset\"):\n",
    "    \"\"\"\n",
    "        1. number of folders\n",
    "        2. name of folders\n",
    "        3. number of files\n",
    "    \"\"\"\n",
    "    print(\"--------------------DATASET CHECKER--------------------\")\n",
    "    folder_names = []\n",
    "    for item in os.listdir(folder_path):\n",
    "        if os.path.isdir(os.path.join(folder_path, item)):\n",
    "            folder_names.append(item)\n",
    "    folder_names.sort()\n",
    "\n",
    "    # Print\n",
    "    print(\"There are {} folders\".format(len(folder_names)))\n",
    "    for folder in folder_names:\n",
    "        print(\"Folder name: {} \\t\\t; Number of files: {}\".format(folder, len(os.listdir(os.path.join(folder_path, folder)))))\n"
   ]
  },
  {
   "cell_type": "code",
   "execution_count": 75,
   "metadata": {},
   "outputs": [
    {
     "name": "stdout",
     "output_type": "stream",
     "text": [
      "--------------------DATASET CHECKER--------------------\n",
      "There are 15 folders\n",
      "Folder name: 0 \t\t; Number of files: 6914\n",
      "Folder name: 1 \t\t; Number of files: 26520\n",
      "Folder name: 2 \t\t; Number of files: 26141\n",
      "Folder name: 3 \t\t; Number of files: 10909\n",
      "Folder name: 4 \t\t; Number of files: 7396\n",
      "Folder name: 5 \t\t; Number of files: 3545\n",
      "Folder name: 6 \t\t; Number of files: 3118\n",
      "Folder name: 7 \t\t; Number of files: 2909\n",
      "Folder name: 8 \t\t; Number of files: 3068\n",
      "Folder name: 9 \t\t; Number of files: 3737\n",
      "Folder name: div \t\t; Number of files: 2368\n",
      "Folder name: equal \t\t; Number of files: 13145\n",
      "Folder name: minus \t\t; Number of files: 33997\n",
      "Folder name: plus \t\t; Number of files: 25112\n",
      "Folder name: times \t\t; Number of files: 3251\n"
     ]
    }
   ],
   "source": [
    "dataset_checker(raw_dataset_path)"
   ]
  },
  {
   "cell_type": "markdown",
   "metadata": {},
   "source": [
    "# 2. Sync numbers of samples"
   ]
  },
  {
   "cell_type": "code",
   "execution_count": null,
   "metadata": {},
   "outputs": [],
   "source": [
    "def manage_images_in_subfolders(folder_path, target_count):\n",
    "    # Kiểm tra xem thư mục chính có tồn tại không\n",
    "    if not os.path.exists(folder_path):\n",
    "        print(f\"Thư mục '{folder_path}' không tồn tại.\")\n",
    "        return\n",
    "\n",
    "    for subfolder in os.listdir(folder_path):\n",
    "        subfolder_path = os.path.join(folder_path, subfolder)\n",
    "        \n",
    "        if os.path.isdir(subfolder_path):           \n",
    "            image_files = glob.glob(os.path.join(subfolder_path, '*.*'))\n",
    "            image_files = [f for f in image_files if f.lower().endswith(('png', 'jpeg', 'jpg', 'bmp', 'gif'))]\n",
    "\n",
    "            current_count = len(image_files)\n",
    "            print(f\"Số lượng hình ảnh hiện tại trong '{subfolder_path}': {current_count}\")\n",
    "\n",
    "            if current_count > target_count:\n",
    "                to_delete_count = current_count - target_count\n",
    "                images_to_delete = random.sample(image_files, to_delete_count)\n",
    "                \n",
    "                for image_file in images_to_delete:\n",
    "                    os.remove(image_file)\n",
    "                print(f\"Đã xóa {to_delete_count} mẫu trong '{subfolder_path}'.\")\n",
    "\n",
    "            elif current_count < target_count:\n",
    "                missing_count = target_count - current_count\n",
    "                print(f\"Thiếu {missing_count} mẫu trong '{subfolder_path}'.\")"
   ]
  },
  {
   "cell_type": "code",
   "execution_count": 52,
   "metadata": {},
   "outputs": [
    {
     "name": "stdout",
     "output_type": "stream",
     "text": [
      "Số lượng hình ảnh hiện tại trong '../extracted_images\\0': 3000\n",
      "Số lượng hình ảnh hiện tại trong '../extracted_images\\1': 3000\n",
      "Số lượng hình ảnh hiện tại trong '../extracted_images\\2': 3000\n",
      "Số lượng hình ảnh hiện tại trong '../extracted_images\\3': 3000\n",
      "Số lượng hình ảnh hiện tại trong '../extracted_images\\4': 3000\n",
      "Số lượng hình ảnh hiện tại trong '../extracted_images\\5': 3000\n",
      "Số lượng hình ảnh hiện tại trong '../extracted_images\\6': 3000\n",
      "Số lượng hình ảnh hiện tại trong '../extracted_images\\7': 3000\n",
      "Số lượng hình ảnh hiện tại trong '../extracted_images\\8': 3000\n",
      "Số lượng hình ảnh hiện tại trong '../extracted_images\\9': 3000\n",
      "Số lượng hình ảnh hiện tại trong '../extracted_images\\div': 3000\n",
      "Số lượng hình ảnh hiện tại trong '../extracted_images\\equal': 3000\n",
      "Số lượng hình ảnh hiện tại trong '../extracted_images\\minus': 3000\n",
      "Số lượng hình ảnh hiện tại trong '../extracted_images\\plus': 3000\n",
      "Số lượng hình ảnh hiện tại trong '../extracted_images\\times': 3000\n"
     ]
    }
   ],
   "source": [
    "manage_images_in_subfolders(raw_dataset_path, 3000)"
   ]
  },
  {
   "cell_type": "markdown",
   "metadata": {},
   "source": [
    "# 3. Folder checker"
   ]
  },
  {
   "cell_type": "code",
   "execution_count": 61,
   "metadata": {},
   "outputs": [
    {
     "name": "stdout",
     "output_type": "stream",
     "text": [
      "--------------------DATASET CHECKER--------------------\n",
      "Folder: ../extracted_images\n",
      "There are 15 folders\n",
      "Folder name: 0 \t\t; Number of files: 3000\n",
      "Folder name: 1 \t\t; Number of files: 3000\n",
      "Folder name: 2 \t\t; Number of files: 3000\n",
      "Folder name: 3 \t\t; Number of files: 3000\n",
      "Folder name: 4 \t\t; Number of files: 3000\n",
      "Folder name: 5 \t\t; Number of files: 3000\n",
      "Folder name: 6 \t\t; Number of files: 3000\n",
      "Folder name: 7 \t\t; Number of files: 3000\n",
      "Folder name: 8 \t\t; Number of files: 3000\n",
      "Folder name: 9 \t\t; Number of files: 3000\n",
      "Folder name: div \t\t; Number of files: 3000\n",
      "Folder name: equal \t\t; Number of files: 3000\n",
      "Folder name: minus \t\t; Number of files: 3000\n",
      "Folder name: plus \t\t; Number of files: 3000\n",
      "Folder name: times \t\t; Number of files: 3000\n"
     ]
    }
   ],
   "source": [
    "dataset_checker(raw_dataset_path)"
   ]
  },
  {
   "cell_type": "markdown",
   "metadata": {},
   "source": [
    "# 4. Format to .jpg"
   ]
  },
  {
   "cell_type": "code",
   "execution_count": 64,
   "metadata": {},
   "outputs": [],
   "source": [
    "def rename_images_in_subfolders(folder_path):\n",
    "    for subfolder in os.listdir(folder_path):\n",
    "        subfolder_path = os.path.join(folder_path, subfolder)\n",
    "        \n",
    "        if os.path.isdir(subfolder_path):\n",
    "            print(f\"Processing subfolder: {subfolder_path}\")\n",
    "            image_files = glob.glob(os.path.join(subfolder_path, '*.*'))\n",
    "            image_files = [f for f in image_files if f.lower().endswith(('png', 'jpeg', 'jpg', 'bmp', 'gif'))]\n",
    "\n",
    "            for index, image_file in enumerate(image_files):\n",
    "                new_filename = os.path.join(subfolder_path, f\"{index + 1:04d}.jpg\")\n",
    "                os.rename(image_file, new_filename)"
   ]
  },
  {
   "cell_type": "code",
   "execution_count": 65,
   "metadata": {},
   "outputs": [
    {
     "name": "stdout",
     "output_type": "stream",
     "text": [
      "Processing subfolder: ../extracted_images\\0\n",
      "Processing subfolder: ../extracted_images\\1\n",
      "Processing subfolder: ../extracted_images\\2\n",
      "Processing subfolder: ../extracted_images\\3\n",
      "Processing subfolder: ../extracted_images\\4\n",
      "Processing subfolder: ../extracted_images\\5\n",
      "Processing subfolder: ../extracted_images\\6\n",
      "Processing subfolder: ../extracted_images\\7\n",
      "Processing subfolder: ../extracted_images\\8\n",
      "Processing subfolder: ../extracted_images\\9\n",
      "Processing subfolder: ../extracted_images\\div\n",
      "Processing subfolder: ../extracted_images\\equal\n",
      "Processing subfolder: ../extracted_images\\minus\n",
      "Processing subfolder: ../extracted_images\\plus\n",
      "Processing subfolder: ../extracted_images\\times\n"
     ]
    }
   ],
   "source": [
    "rename_images_in_subfolders(raw_dataset_path)"
   ]
  }
 ],
 "metadata": {
  "kernelspec": {
   "display_name": "env",
   "language": "python",
   "name": "python3"
  },
  "language_info": {
   "codemirror_mode": {
    "name": "ipython",
    "version": 3
   },
   "file_extension": ".py",
   "mimetype": "text/x-python",
   "name": "python",
   "nbconvert_exporter": "python",
   "pygments_lexer": "ipython3",
   "version": "3.11.2"
  }
 },
 "nbformat": 4,
 "nbformat_minor": 2
}
